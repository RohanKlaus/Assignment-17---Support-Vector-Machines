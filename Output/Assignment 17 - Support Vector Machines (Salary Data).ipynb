{
 "cells": [
  {
   "cell_type": "markdown",
   "id": "ac77f367",
   "metadata": {},
   "source": [
    "# Assignment 17 - Support Vector Machines ( Salary Data)"
   ]
  },
  {
   "cell_type": "markdown",
   "id": "62239bd7",
   "metadata": {},
   "source": [
    "## Problem Statement:\n",
    "To Prepare a classification model using SVM for salary data:"
   ]
  },
  {
   "cell_type": "markdown",
   "id": "60883e45",
   "metadata": {},
   "source": [
    "### Importing required libraries:"
   ]
  },
  {
   "cell_type": "code",
   "execution_count": 1,
   "id": "52f3c49e",
   "metadata": {
    "ExecuteTime": {
     "end_time": "2021-12-21T13:10:32.801087Z",
     "start_time": "2021-12-21T13:10:30.333038Z"
    }
   },
   "outputs": [],
   "source": [
    "import warnings\n",
    "warnings.filterwarnings('ignore')\n",
    "import numpy as np\n",
    "import pandas as pd\n",
    "\n",
    "from sklearn.svm import SVC\n",
    "from sklearn.model_selection import GridSearchCV\n",
    "from sklearn.metrics import classification_report\n",
    "\n",
    "from sklearn.metrics import accuracy_score, confusion_matrix\n",
    "from sklearn.model_selection import train_test_split, cross_val_score\n",
    "from sklearn import preprocessing"
   ]
  },
  {
   "cell_type": "markdown",
   "id": "7f2e433f",
   "metadata": {},
   "source": [
    "### Importing Dataset:"
   ]
  },
  {
   "cell_type": "code",
   "execution_count": 2,
   "id": "136ae506",
   "metadata": {
    "ExecuteTime": {
     "end_time": "2021-12-21T13:10:35.328502Z",
     "start_time": "2021-12-21T13:10:35.224516Z"
    }
   },
   "outputs": [],
   "source": [
    "df_train = pd.read_csv(\"C:/Users/DELL/Desktop/ExcelR DS Assignments/Assignment 17 - Support Vector Machines/SalaryData_Train(1).csv\")"
   ]
  },
  {
   "cell_type": "code",
   "execution_count": 3,
   "id": "360e0ffc",
   "metadata": {
    "ExecuteTime": {
     "end_time": "2021-12-21T13:10:37.391137Z",
     "start_time": "2021-12-21T13:10:37.319182Z"
    }
   },
   "outputs": [],
   "source": [
    "df_test = pd.read_csv(\"C:/Users/DELL/Desktop/ExcelR DS Assignments/Assignment 17 - Support Vector Machines/SalaryData_Test(1).csv\")"
   ]
  },
  {
   "cell_type": "code",
   "execution_count": 4,
   "id": "9fd13719",
   "metadata": {
    "ExecuteTime": {
     "end_time": "2021-12-21T13:10:39.563398Z",
     "start_time": "2021-12-21T13:10:39.523424Z"
    }
   },
   "outputs": [
    {
     "data": {
      "text/html": [
       "<div>\n",
       "<style scoped>\n",
       "    .dataframe tbody tr th:only-of-type {\n",
       "        vertical-align: middle;\n",
       "    }\n",
       "\n",
       "    .dataframe tbody tr th {\n",
       "        vertical-align: top;\n",
       "    }\n",
       "\n",
       "    .dataframe thead th {\n",
       "        text-align: right;\n",
       "    }\n",
       "</style>\n",
       "<table border=\"1\" class=\"dataframe\">\n",
       "  <thead>\n",
       "    <tr style=\"text-align: right;\">\n",
       "      <th></th>\n",
       "      <th>age</th>\n",
       "      <th>workclass</th>\n",
       "      <th>education</th>\n",
       "      <th>educationno</th>\n",
       "      <th>maritalstatus</th>\n",
       "      <th>occupation</th>\n",
       "      <th>relationship</th>\n",
       "      <th>race</th>\n",
       "      <th>sex</th>\n",
       "      <th>capitalgain</th>\n",
       "      <th>capitalloss</th>\n",
       "      <th>hoursperweek</th>\n",
       "      <th>native</th>\n",
       "      <th>Salary</th>\n",
       "    </tr>\n",
       "  </thead>\n",
       "  <tbody>\n",
       "    <tr>\n",
       "      <th>0</th>\n",
       "      <td>39</td>\n",
       "      <td>State-gov</td>\n",
       "      <td>Bachelors</td>\n",
       "      <td>13</td>\n",
       "      <td>Never-married</td>\n",
       "      <td>Adm-clerical</td>\n",
       "      <td>Not-in-family</td>\n",
       "      <td>White</td>\n",
       "      <td>Male</td>\n",
       "      <td>2174</td>\n",
       "      <td>0</td>\n",
       "      <td>40</td>\n",
       "      <td>United-States</td>\n",
       "      <td>&lt;=50K</td>\n",
       "    </tr>\n",
       "    <tr>\n",
       "      <th>1</th>\n",
       "      <td>50</td>\n",
       "      <td>Self-emp-not-inc</td>\n",
       "      <td>Bachelors</td>\n",
       "      <td>13</td>\n",
       "      <td>Married-civ-spouse</td>\n",
       "      <td>Exec-managerial</td>\n",
       "      <td>Husband</td>\n",
       "      <td>White</td>\n",
       "      <td>Male</td>\n",
       "      <td>0</td>\n",
       "      <td>0</td>\n",
       "      <td>13</td>\n",
       "      <td>United-States</td>\n",
       "      <td>&lt;=50K</td>\n",
       "    </tr>\n",
       "    <tr>\n",
       "      <th>2</th>\n",
       "      <td>38</td>\n",
       "      <td>Private</td>\n",
       "      <td>HS-grad</td>\n",
       "      <td>9</td>\n",
       "      <td>Divorced</td>\n",
       "      <td>Handlers-cleaners</td>\n",
       "      <td>Not-in-family</td>\n",
       "      <td>White</td>\n",
       "      <td>Male</td>\n",
       "      <td>0</td>\n",
       "      <td>0</td>\n",
       "      <td>40</td>\n",
       "      <td>United-States</td>\n",
       "      <td>&lt;=50K</td>\n",
       "    </tr>\n",
       "    <tr>\n",
       "      <th>3</th>\n",
       "      <td>53</td>\n",
       "      <td>Private</td>\n",
       "      <td>11th</td>\n",
       "      <td>7</td>\n",
       "      <td>Married-civ-spouse</td>\n",
       "      <td>Handlers-cleaners</td>\n",
       "      <td>Husband</td>\n",
       "      <td>Black</td>\n",
       "      <td>Male</td>\n",
       "      <td>0</td>\n",
       "      <td>0</td>\n",
       "      <td>40</td>\n",
       "      <td>United-States</td>\n",
       "      <td>&lt;=50K</td>\n",
       "    </tr>\n",
       "    <tr>\n",
       "      <th>4</th>\n",
       "      <td>28</td>\n",
       "      <td>Private</td>\n",
       "      <td>Bachelors</td>\n",
       "      <td>13</td>\n",
       "      <td>Married-civ-spouse</td>\n",
       "      <td>Prof-specialty</td>\n",
       "      <td>Wife</td>\n",
       "      <td>Black</td>\n",
       "      <td>Female</td>\n",
       "      <td>0</td>\n",
       "      <td>0</td>\n",
       "      <td>40</td>\n",
       "      <td>Cuba</td>\n",
       "      <td>&lt;=50K</td>\n",
       "    </tr>\n",
       "  </tbody>\n",
       "</table>\n",
       "</div>"
      ],
      "text/plain": [
       "   age          workclass   education  educationno        maritalstatus  \\\n",
       "0   39          State-gov   Bachelors           13        Never-married   \n",
       "1   50   Self-emp-not-inc   Bachelors           13   Married-civ-spouse   \n",
       "2   38            Private     HS-grad            9             Divorced   \n",
       "3   53            Private        11th            7   Married-civ-spouse   \n",
       "4   28            Private   Bachelors           13   Married-civ-spouse   \n",
       "\n",
       "           occupation    relationship    race      sex  capitalgain  \\\n",
       "0        Adm-clerical   Not-in-family   White     Male         2174   \n",
       "1     Exec-managerial         Husband   White     Male            0   \n",
       "2   Handlers-cleaners   Not-in-family   White     Male            0   \n",
       "3   Handlers-cleaners         Husband   Black     Male            0   \n",
       "4      Prof-specialty            Wife   Black   Female            0   \n",
       "\n",
       "   capitalloss  hoursperweek          native  Salary  \n",
       "0            0            40   United-States   <=50K  \n",
       "1            0            13   United-States   <=50K  \n",
       "2            0            40   United-States   <=50K  \n",
       "3            0            40   United-States   <=50K  \n",
       "4            0            40            Cuba   <=50K  "
      ]
     },
     "execution_count": 4,
     "metadata": {},
     "output_type": "execute_result"
    }
   ],
   "source": [
    "df_train.head()"
   ]
  },
  {
   "cell_type": "code",
   "execution_count": 5,
   "id": "1f6dc60a",
   "metadata": {
    "ExecuteTime": {
     "end_time": "2021-12-21T13:10:46.382556Z",
     "start_time": "2021-12-21T13:10:46.350577Z"
    }
   },
   "outputs": [
    {
     "data": {
      "text/html": [
       "<div>\n",
       "<style scoped>\n",
       "    .dataframe tbody tr th:only-of-type {\n",
       "        vertical-align: middle;\n",
       "    }\n",
       "\n",
       "    .dataframe tbody tr th {\n",
       "        vertical-align: top;\n",
       "    }\n",
       "\n",
       "    .dataframe thead th {\n",
       "        text-align: right;\n",
       "    }\n",
       "</style>\n",
       "<table border=\"1\" class=\"dataframe\">\n",
       "  <thead>\n",
       "    <tr style=\"text-align: right;\">\n",
       "      <th></th>\n",
       "      <th>age</th>\n",
       "      <th>workclass</th>\n",
       "      <th>education</th>\n",
       "      <th>educationno</th>\n",
       "      <th>maritalstatus</th>\n",
       "      <th>occupation</th>\n",
       "      <th>relationship</th>\n",
       "      <th>race</th>\n",
       "      <th>sex</th>\n",
       "      <th>capitalgain</th>\n",
       "      <th>capitalloss</th>\n",
       "      <th>hoursperweek</th>\n",
       "      <th>native</th>\n",
       "      <th>Salary</th>\n",
       "    </tr>\n",
       "  </thead>\n",
       "  <tbody>\n",
       "    <tr>\n",
       "      <th>0</th>\n",
       "      <td>25</td>\n",
       "      <td>Private</td>\n",
       "      <td>11th</td>\n",
       "      <td>7</td>\n",
       "      <td>Never-married</td>\n",
       "      <td>Machine-op-inspct</td>\n",
       "      <td>Own-child</td>\n",
       "      <td>Black</td>\n",
       "      <td>Male</td>\n",
       "      <td>0</td>\n",
       "      <td>0</td>\n",
       "      <td>40</td>\n",
       "      <td>United-States</td>\n",
       "      <td>&lt;=50K</td>\n",
       "    </tr>\n",
       "    <tr>\n",
       "      <th>1</th>\n",
       "      <td>38</td>\n",
       "      <td>Private</td>\n",
       "      <td>HS-grad</td>\n",
       "      <td>9</td>\n",
       "      <td>Married-civ-spouse</td>\n",
       "      <td>Farming-fishing</td>\n",
       "      <td>Husband</td>\n",
       "      <td>White</td>\n",
       "      <td>Male</td>\n",
       "      <td>0</td>\n",
       "      <td>0</td>\n",
       "      <td>50</td>\n",
       "      <td>United-States</td>\n",
       "      <td>&lt;=50K</td>\n",
       "    </tr>\n",
       "    <tr>\n",
       "      <th>2</th>\n",
       "      <td>28</td>\n",
       "      <td>Local-gov</td>\n",
       "      <td>Assoc-acdm</td>\n",
       "      <td>12</td>\n",
       "      <td>Married-civ-spouse</td>\n",
       "      <td>Protective-serv</td>\n",
       "      <td>Husband</td>\n",
       "      <td>White</td>\n",
       "      <td>Male</td>\n",
       "      <td>0</td>\n",
       "      <td>0</td>\n",
       "      <td>40</td>\n",
       "      <td>United-States</td>\n",
       "      <td>&gt;50K</td>\n",
       "    </tr>\n",
       "    <tr>\n",
       "      <th>3</th>\n",
       "      <td>44</td>\n",
       "      <td>Private</td>\n",
       "      <td>Some-college</td>\n",
       "      <td>10</td>\n",
       "      <td>Married-civ-spouse</td>\n",
       "      <td>Machine-op-inspct</td>\n",
       "      <td>Husband</td>\n",
       "      <td>Black</td>\n",
       "      <td>Male</td>\n",
       "      <td>7688</td>\n",
       "      <td>0</td>\n",
       "      <td>40</td>\n",
       "      <td>United-States</td>\n",
       "      <td>&gt;50K</td>\n",
       "    </tr>\n",
       "    <tr>\n",
       "      <th>4</th>\n",
       "      <td>34</td>\n",
       "      <td>Private</td>\n",
       "      <td>10th</td>\n",
       "      <td>6</td>\n",
       "      <td>Never-married</td>\n",
       "      <td>Other-service</td>\n",
       "      <td>Not-in-family</td>\n",
       "      <td>White</td>\n",
       "      <td>Male</td>\n",
       "      <td>0</td>\n",
       "      <td>0</td>\n",
       "      <td>30</td>\n",
       "      <td>United-States</td>\n",
       "      <td>&lt;=50K</td>\n",
       "    </tr>\n",
       "  </tbody>\n",
       "</table>\n",
       "</div>"
      ],
      "text/plain": [
       "   age   workclass      education  educationno        maritalstatus  \\\n",
       "0   25     Private           11th            7        Never-married   \n",
       "1   38     Private        HS-grad            9   Married-civ-spouse   \n",
       "2   28   Local-gov     Assoc-acdm           12   Married-civ-spouse   \n",
       "3   44     Private   Some-college           10   Married-civ-spouse   \n",
       "4   34     Private           10th            6        Never-married   \n",
       "\n",
       "           occupation    relationship    race    sex  capitalgain  \\\n",
       "0   Machine-op-inspct       Own-child   Black   Male            0   \n",
       "1     Farming-fishing         Husband   White   Male            0   \n",
       "2     Protective-serv         Husband   White   Male            0   \n",
       "3   Machine-op-inspct         Husband   Black   Male         7688   \n",
       "4       Other-service   Not-in-family   White   Male            0   \n",
       "\n",
       "   capitalloss  hoursperweek          native  Salary  \n",
       "0            0            40   United-States   <=50K  \n",
       "1            0            50   United-States   <=50K  \n",
       "2            0            40   United-States    >50K  \n",
       "3            0            40   United-States    >50K  \n",
       "4            0            30   United-States   <=50K  "
      ]
     },
     "execution_count": 5,
     "metadata": {},
     "output_type": "execute_result"
    }
   ],
   "source": [
    "df_test.head()"
   ]
  },
  {
   "cell_type": "markdown",
   "id": "55cb6bbc",
   "metadata": {},
   "source": [
    "### Performing EDA:"
   ]
  },
  {
   "cell_type": "code",
   "execution_count": 6,
   "id": "19f5abf3",
   "metadata": {
    "ExecuteTime": {
     "end_time": "2021-12-21T13:10:49.993318Z",
     "start_time": "2021-12-21T13:10:49.921365Z"
    }
   },
   "outputs": [
    {
     "name": "stdout",
     "output_type": "stream",
     "text": [
      "<class 'pandas.core.frame.DataFrame'>\n",
      "RangeIndex: 30161 entries, 0 to 30160\n",
      "Data columns (total 14 columns):\n",
      " #   Column         Non-Null Count  Dtype \n",
      "---  ------         --------------  ----- \n",
      " 0   age            30161 non-null  int64 \n",
      " 1   workclass      30161 non-null  object\n",
      " 2   education      30161 non-null  object\n",
      " 3   educationno    30161 non-null  int64 \n",
      " 4   maritalstatus  30161 non-null  object\n",
      " 5   occupation     30161 non-null  object\n",
      " 6   relationship   30161 non-null  object\n",
      " 7   race           30161 non-null  object\n",
      " 8   sex            30161 non-null  object\n",
      " 9   capitalgain    30161 non-null  int64 \n",
      " 10  capitalloss    30161 non-null  int64 \n",
      " 11  hoursperweek   30161 non-null  int64 \n",
      " 12  native         30161 non-null  object\n",
      " 13  Salary         30161 non-null  object\n",
      "dtypes: int64(5), object(9)\n",
      "memory usage: 3.2+ MB\n"
     ]
    }
   ],
   "source": [
    "df_train.info()"
   ]
  },
  {
   "cell_type": "code",
   "execution_count": 7,
   "id": "43d23c42",
   "metadata": {
    "ExecuteTime": {
     "end_time": "2021-12-21T13:11:09.829333Z",
     "start_time": "2021-12-21T13:11:09.765376Z"
    }
   },
   "outputs": [
    {
     "name": "stdout",
     "output_type": "stream",
     "text": [
      "<class 'pandas.core.frame.DataFrame'>\n",
      "RangeIndex: 15060 entries, 0 to 15059\n",
      "Data columns (total 14 columns):\n",
      " #   Column         Non-Null Count  Dtype \n",
      "---  ------         --------------  ----- \n",
      " 0   age            15060 non-null  int64 \n",
      " 1   workclass      15060 non-null  object\n",
      " 2   education      15060 non-null  object\n",
      " 3   educationno    15060 non-null  int64 \n",
      " 4   maritalstatus  15060 non-null  object\n",
      " 5   occupation     15060 non-null  object\n",
      " 6   relationship   15060 non-null  object\n",
      " 7   race           15060 non-null  object\n",
      " 8   sex            15060 non-null  object\n",
      " 9   capitalgain    15060 non-null  int64 \n",
      " 10  capitalloss    15060 non-null  int64 \n",
      " 11  hoursperweek   15060 non-null  int64 \n",
      " 12  native         15060 non-null  object\n",
      " 13  Salary         15060 non-null  object\n",
      "dtypes: int64(5), object(9)\n",
      "memory usage: 1.6+ MB\n"
     ]
    }
   ],
   "source": [
    "df_test.info()"
   ]
  },
  {
   "cell_type": "code",
   "execution_count": 8,
   "id": "84bb31b6",
   "metadata": {
    "ExecuteTime": {
     "end_time": "2021-12-21T13:11:12.027083Z",
     "start_time": "2021-12-21T13:11:12.019087Z"
    }
   },
   "outputs": [
    {
     "data": {
      "text/plain": [
       "(30161, 14)"
      ]
     },
     "execution_count": 8,
     "metadata": {},
     "output_type": "execute_result"
    }
   ],
   "source": [
    "df_train.shape"
   ]
  },
  {
   "cell_type": "code",
   "execution_count": 9,
   "id": "dea9a342",
   "metadata": {
    "ExecuteTime": {
     "end_time": "2021-12-21T13:11:16.840358Z",
     "start_time": "2021-12-21T13:11:16.816371Z"
    }
   },
   "outputs": [
    {
     "data": {
      "text/plain": [
       "(15060, 14)"
      ]
     },
     "execution_count": 9,
     "metadata": {},
     "output_type": "execute_result"
    }
   ],
   "source": [
    "df_test.shape"
   ]
  },
  {
   "cell_type": "code",
   "execution_count": 10,
   "id": "9a823dcd",
   "metadata": {
    "ExecuteTime": {
     "end_time": "2021-12-21T13:11:19.311673Z",
     "start_time": "2021-12-21T13:11:19.295675Z"
    }
   },
   "outputs": [],
   "source": [
    "train_data = df_train.copy()"
   ]
  },
  {
   "cell_type": "code",
   "execution_count": 11,
   "id": "2fc1af3e",
   "metadata": {
    "ExecuteTime": {
     "end_time": "2021-12-21T13:11:23.517444Z",
     "start_time": "2021-12-21T13:11:23.493463Z"
    }
   },
   "outputs": [],
   "source": [
    "test_data = df_test.copy()"
   ]
  },
  {
   "cell_type": "code",
   "execution_count": 12,
   "id": "51a7ebdc",
   "metadata": {
    "ExecuteTime": {
     "end_time": "2021-12-21T13:11:26.650385Z",
     "start_time": "2021-12-21T13:11:26.610364Z"
    }
   },
   "outputs": [
    {
     "data": {
      "text/html": [
       "<div>\n",
       "<style scoped>\n",
       "    .dataframe tbody tr th:only-of-type {\n",
       "        vertical-align: middle;\n",
       "    }\n",
       "\n",
       "    .dataframe tbody tr th {\n",
       "        vertical-align: top;\n",
       "    }\n",
       "\n",
       "    .dataframe thead th {\n",
       "        text-align: right;\n",
       "    }\n",
       "</style>\n",
       "<table border=\"1\" class=\"dataframe\">\n",
       "  <thead>\n",
       "    <tr style=\"text-align: right;\">\n",
       "      <th></th>\n",
       "      <th>age</th>\n",
       "      <th>workclass</th>\n",
       "      <th>education</th>\n",
       "      <th>educationno</th>\n",
       "      <th>maritalstatus</th>\n",
       "      <th>occupation</th>\n",
       "      <th>relationship</th>\n",
       "      <th>race</th>\n",
       "      <th>sex</th>\n",
       "      <th>capitalgain</th>\n",
       "      <th>capitalloss</th>\n",
       "      <th>hoursperweek</th>\n",
       "      <th>native</th>\n",
       "      <th>Salary</th>\n",
       "    </tr>\n",
       "  </thead>\n",
       "  <tbody>\n",
       "    <tr>\n",
       "      <th>0</th>\n",
       "      <td>39</td>\n",
       "      <td>State-gov</td>\n",
       "      <td>Bachelors</td>\n",
       "      <td>13</td>\n",
       "      <td>Never-married</td>\n",
       "      <td>Adm-clerical</td>\n",
       "      <td>Not-in-family</td>\n",
       "      <td>White</td>\n",
       "      <td>Male</td>\n",
       "      <td>2174</td>\n",
       "      <td>0</td>\n",
       "      <td>40</td>\n",
       "      <td>United-States</td>\n",
       "      <td>&lt;=50K</td>\n",
       "    </tr>\n",
       "    <tr>\n",
       "      <th>1</th>\n",
       "      <td>50</td>\n",
       "      <td>Self-emp-not-inc</td>\n",
       "      <td>Bachelors</td>\n",
       "      <td>13</td>\n",
       "      <td>Married-civ-spouse</td>\n",
       "      <td>Exec-managerial</td>\n",
       "      <td>Husband</td>\n",
       "      <td>White</td>\n",
       "      <td>Male</td>\n",
       "      <td>0</td>\n",
       "      <td>0</td>\n",
       "      <td>13</td>\n",
       "      <td>United-States</td>\n",
       "      <td>&lt;=50K</td>\n",
       "    </tr>\n",
       "  </tbody>\n",
       "</table>\n",
       "</div>"
      ],
      "text/plain": [
       "   age          workclass   education  educationno        maritalstatus  \\\n",
       "0   39          State-gov   Bachelors           13        Never-married   \n",
       "1   50   Self-emp-not-inc   Bachelors           13   Married-civ-spouse   \n",
       "\n",
       "         occupation    relationship    race    sex  capitalgain  capitalloss  \\\n",
       "0      Adm-clerical   Not-in-family   White   Male         2174            0   \n",
       "1   Exec-managerial         Husband   White   Male            0            0   \n",
       "\n",
       "   hoursperweek          native  Salary  \n",
       "0            40   United-States   <=50K  \n",
       "1            13   United-States   <=50K  "
      ]
     },
     "execution_count": 12,
     "metadata": {},
     "output_type": "execute_result"
    }
   ],
   "source": [
    "train_data.head(2)"
   ]
  },
  {
   "cell_type": "code",
   "execution_count": 13,
   "id": "1b4934c9",
   "metadata": {
    "ExecuteTime": {
     "end_time": "2021-12-21T13:11:31.635163Z",
     "start_time": "2021-12-21T13:11:31.539227Z"
    }
   },
   "outputs": [],
   "source": [
    "le = preprocessing.LabelEncoder()\n",
    "train_data['workclass']= le.fit_transform(train_data['workclass'])\n",
    "train_data['maritalstatus']= le.fit_transform(train_data['maritalstatus'])\n",
    "train_data['occupation']= le.fit_transform(train_data['occupation'])\n",
    "train_data['relationship']= le.fit_transform(train_data['relationship'])\n",
    "train_data['race']= le.fit_transform(train_data['race'])\n",
    "train_data['sex']= le.fit_transform(train_data['sex'])\n",
    "train_data['native']= le.fit_transform(train_data['native'])\n",
    "train_data['Salary']= le.fit_transform(train_data['Salary'])"
   ]
  },
  {
   "cell_type": "code",
   "execution_count": 14,
   "id": "f7d0d27e",
   "metadata": {
    "ExecuteTime": {
     "end_time": "2021-12-21T13:11:36.363560Z",
     "start_time": "2021-12-21T13:11:36.299563Z"
    }
   },
   "outputs": [],
   "source": [
    "le = preprocessing.LabelEncoder()\n",
    "test_data['workclass']= le.fit_transform(test_data['workclass'])\n",
    "test_data['maritalstatus']= le.fit_transform(test_data['maritalstatus'])\n",
    "test_data['occupation']= le.fit_transform(test_data['occupation'])\n",
    "test_data['relationship']= le.fit_transform(test_data['relationship'])\n",
    "test_data['race']= le.fit_transform(test_data['race'])\n",
    "test_data['sex']= le.fit_transform(test_data['sex'])\n",
    "test_data['native']= le.fit_transform(test_data['native'])\n",
    "test_data['Salary']= le.fit_transform(test_data['Salary'])"
   ]
  },
  {
   "cell_type": "code",
   "execution_count": 15,
   "id": "bec80c94",
   "metadata": {
    "ExecuteTime": {
     "end_time": "2021-12-21T13:11:51.375296Z",
     "start_time": "2021-12-21T13:11:51.351310Z"
    }
   },
   "outputs": [
    {
     "data": {
      "text/html": [
       "<div>\n",
       "<style scoped>\n",
       "    .dataframe tbody tr th:only-of-type {\n",
       "        vertical-align: middle;\n",
       "    }\n",
       "\n",
       "    .dataframe tbody tr th {\n",
       "        vertical-align: top;\n",
       "    }\n",
       "\n",
       "    .dataframe thead th {\n",
       "        text-align: right;\n",
       "    }\n",
       "</style>\n",
       "<table border=\"1\" class=\"dataframe\">\n",
       "  <thead>\n",
       "    <tr style=\"text-align: right;\">\n",
       "      <th></th>\n",
       "      <th>age</th>\n",
       "      <th>workclass</th>\n",
       "      <th>education</th>\n",
       "      <th>educationno</th>\n",
       "      <th>maritalstatus</th>\n",
       "      <th>occupation</th>\n",
       "      <th>relationship</th>\n",
       "      <th>race</th>\n",
       "      <th>sex</th>\n",
       "      <th>capitalgain</th>\n",
       "      <th>capitalloss</th>\n",
       "      <th>hoursperweek</th>\n",
       "      <th>native</th>\n",
       "      <th>Salary</th>\n",
       "    </tr>\n",
       "  </thead>\n",
       "  <tbody>\n",
       "    <tr>\n",
       "      <th>0</th>\n",
       "      <td>39</td>\n",
       "      <td>5</td>\n",
       "      <td>Bachelors</td>\n",
       "      <td>13</td>\n",
       "      <td>4</td>\n",
       "      <td>0</td>\n",
       "      <td>1</td>\n",
       "      <td>4</td>\n",
       "      <td>1</td>\n",
       "      <td>2174</td>\n",
       "      <td>0</td>\n",
       "      <td>40</td>\n",
       "      <td>37</td>\n",
       "      <td>0</td>\n",
       "    </tr>\n",
       "    <tr>\n",
       "      <th>1</th>\n",
       "      <td>50</td>\n",
       "      <td>4</td>\n",
       "      <td>Bachelors</td>\n",
       "      <td>13</td>\n",
       "      <td>2</td>\n",
       "      <td>3</td>\n",
       "      <td>0</td>\n",
       "      <td>4</td>\n",
       "      <td>1</td>\n",
       "      <td>0</td>\n",
       "      <td>0</td>\n",
       "      <td>13</td>\n",
       "      <td>37</td>\n",
       "      <td>0</td>\n",
       "    </tr>\n",
       "    <tr>\n",
       "      <th>2</th>\n",
       "      <td>38</td>\n",
       "      <td>2</td>\n",
       "      <td>HS-grad</td>\n",
       "      <td>9</td>\n",
       "      <td>0</td>\n",
       "      <td>5</td>\n",
       "      <td>1</td>\n",
       "      <td>4</td>\n",
       "      <td>1</td>\n",
       "      <td>0</td>\n",
       "      <td>0</td>\n",
       "      <td>40</td>\n",
       "      <td>37</td>\n",
       "      <td>0</td>\n",
       "    </tr>\n",
       "    <tr>\n",
       "      <th>3</th>\n",
       "      <td>53</td>\n",
       "      <td>2</td>\n",
       "      <td>11th</td>\n",
       "      <td>7</td>\n",
       "      <td>2</td>\n",
       "      <td>5</td>\n",
       "      <td>0</td>\n",
       "      <td>2</td>\n",
       "      <td>1</td>\n",
       "      <td>0</td>\n",
       "      <td>0</td>\n",
       "      <td>40</td>\n",
       "      <td>37</td>\n",
       "      <td>0</td>\n",
       "    </tr>\n",
       "    <tr>\n",
       "      <th>4</th>\n",
       "      <td>28</td>\n",
       "      <td>2</td>\n",
       "      <td>Bachelors</td>\n",
       "      <td>13</td>\n",
       "      <td>2</td>\n",
       "      <td>9</td>\n",
       "      <td>5</td>\n",
       "      <td>2</td>\n",
       "      <td>0</td>\n",
       "      <td>0</td>\n",
       "      <td>0</td>\n",
       "      <td>40</td>\n",
       "      <td>4</td>\n",
       "      <td>0</td>\n",
       "    </tr>\n",
       "  </tbody>\n",
       "</table>\n",
       "</div>"
      ],
      "text/plain": [
       "   age  workclass   education  educationno  maritalstatus  occupation  \\\n",
       "0   39          5   Bachelors           13              4           0   \n",
       "1   50          4   Bachelors           13              2           3   \n",
       "2   38          2     HS-grad            9              0           5   \n",
       "3   53          2        11th            7              2           5   \n",
       "4   28          2   Bachelors           13              2           9   \n",
       "\n",
       "   relationship  race  sex  capitalgain  capitalloss  hoursperweek  native  \\\n",
       "0             1     4    1         2174            0            40      37   \n",
       "1             0     4    1            0            0            13      37   \n",
       "2             1     4    1            0            0            40      37   \n",
       "3             0     2    1            0            0            40      37   \n",
       "4             5     2    0            0            0            40       4   \n",
       "\n",
       "   Salary  \n",
       "0       0  \n",
       "1       0  \n",
       "2       0  \n",
       "3       0  \n",
       "4       0  "
      ]
     },
     "execution_count": 15,
     "metadata": {},
     "output_type": "execute_result"
    }
   ],
   "source": [
    "train_data.head()"
   ]
  },
  {
   "cell_type": "code",
   "execution_count": 16,
   "id": "0b7a5ebd",
   "metadata": {
    "ExecuteTime": {
     "end_time": "2021-12-21T13:11:54.548023Z",
     "start_time": "2021-12-21T13:11:54.516045Z"
    }
   },
   "outputs": [
    {
     "data": {
      "text/html": [
       "<div>\n",
       "<style scoped>\n",
       "    .dataframe tbody tr th:only-of-type {\n",
       "        vertical-align: middle;\n",
       "    }\n",
       "\n",
       "    .dataframe tbody tr th {\n",
       "        vertical-align: top;\n",
       "    }\n",
       "\n",
       "    .dataframe thead th {\n",
       "        text-align: right;\n",
       "    }\n",
       "</style>\n",
       "<table border=\"1\" class=\"dataframe\">\n",
       "  <thead>\n",
       "    <tr style=\"text-align: right;\">\n",
       "      <th></th>\n",
       "      <th>age</th>\n",
       "      <th>workclass</th>\n",
       "      <th>education</th>\n",
       "      <th>educationno</th>\n",
       "      <th>maritalstatus</th>\n",
       "      <th>occupation</th>\n",
       "      <th>relationship</th>\n",
       "      <th>race</th>\n",
       "      <th>sex</th>\n",
       "      <th>capitalgain</th>\n",
       "      <th>capitalloss</th>\n",
       "      <th>hoursperweek</th>\n",
       "      <th>native</th>\n",
       "      <th>Salary</th>\n",
       "    </tr>\n",
       "  </thead>\n",
       "  <tbody>\n",
       "    <tr>\n",
       "      <th>0</th>\n",
       "      <td>25</td>\n",
       "      <td>2</td>\n",
       "      <td>11th</td>\n",
       "      <td>7</td>\n",
       "      <td>4</td>\n",
       "      <td>6</td>\n",
       "      <td>3</td>\n",
       "      <td>2</td>\n",
       "      <td>1</td>\n",
       "      <td>0</td>\n",
       "      <td>0</td>\n",
       "      <td>40</td>\n",
       "      <td>37</td>\n",
       "      <td>0</td>\n",
       "    </tr>\n",
       "    <tr>\n",
       "      <th>1</th>\n",
       "      <td>38</td>\n",
       "      <td>2</td>\n",
       "      <td>HS-grad</td>\n",
       "      <td>9</td>\n",
       "      <td>2</td>\n",
       "      <td>4</td>\n",
       "      <td>0</td>\n",
       "      <td>4</td>\n",
       "      <td>1</td>\n",
       "      <td>0</td>\n",
       "      <td>0</td>\n",
       "      <td>50</td>\n",
       "      <td>37</td>\n",
       "      <td>0</td>\n",
       "    </tr>\n",
       "    <tr>\n",
       "      <th>2</th>\n",
       "      <td>28</td>\n",
       "      <td>1</td>\n",
       "      <td>Assoc-acdm</td>\n",
       "      <td>12</td>\n",
       "      <td>2</td>\n",
       "      <td>10</td>\n",
       "      <td>0</td>\n",
       "      <td>4</td>\n",
       "      <td>1</td>\n",
       "      <td>0</td>\n",
       "      <td>0</td>\n",
       "      <td>40</td>\n",
       "      <td>37</td>\n",
       "      <td>1</td>\n",
       "    </tr>\n",
       "    <tr>\n",
       "      <th>3</th>\n",
       "      <td>44</td>\n",
       "      <td>2</td>\n",
       "      <td>Some-college</td>\n",
       "      <td>10</td>\n",
       "      <td>2</td>\n",
       "      <td>6</td>\n",
       "      <td>0</td>\n",
       "      <td>2</td>\n",
       "      <td>1</td>\n",
       "      <td>7688</td>\n",
       "      <td>0</td>\n",
       "      <td>40</td>\n",
       "      <td>37</td>\n",
       "      <td>1</td>\n",
       "    </tr>\n",
       "    <tr>\n",
       "      <th>4</th>\n",
       "      <td>34</td>\n",
       "      <td>2</td>\n",
       "      <td>10th</td>\n",
       "      <td>6</td>\n",
       "      <td>4</td>\n",
       "      <td>7</td>\n",
       "      <td>1</td>\n",
       "      <td>4</td>\n",
       "      <td>1</td>\n",
       "      <td>0</td>\n",
       "      <td>0</td>\n",
       "      <td>30</td>\n",
       "      <td>37</td>\n",
       "      <td>0</td>\n",
       "    </tr>\n",
       "  </tbody>\n",
       "</table>\n",
       "</div>"
      ],
      "text/plain": [
       "   age  workclass      education  educationno  maritalstatus  occupation  \\\n",
       "0   25          2           11th            7              4           6   \n",
       "1   38          2        HS-grad            9              2           4   \n",
       "2   28          1     Assoc-acdm           12              2          10   \n",
       "3   44          2   Some-college           10              2           6   \n",
       "4   34          2           10th            6              4           7   \n",
       "\n",
       "   relationship  race  sex  capitalgain  capitalloss  hoursperweek  native  \\\n",
       "0             3     2    1            0            0            40      37   \n",
       "1             0     4    1            0            0            50      37   \n",
       "2             0     4    1            0            0            40      37   \n",
       "3             0     2    1         7688            0            40      37   \n",
       "4             1     4    1            0            0            30      37   \n",
       "\n",
       "   Salary  \n",
       "0       0  \n",
       "1       0  \n",
       "2       1  \n",
       "3       1  \n",
       "4       0  "
      ]
     },
     "execution_count": 16,
     "metadata": {},
     "output_type": "execute_result"
    }
   ],
   "source": [
    "test_data.head()"
   ]
  },
  {
   "cell_type": "code",
   "execution_count": 17,
   "id": "2fc91c1b",
   "metadata": {
    "ExecuteTime": {
     "end_time": "2021-12-21T13:12:01.787214Z",
     "start_time": "2021-12-21T13:12:01.763212Z"
    }
   },
   "outputs": [],
   "source": [
    "train_data.drop(['education'],axis=1,inplace=True)"
   ]
  },
  {
   "cell_type": "code",
   "execution_count": 18,
   "id": "6d3e262b",
   "metadata": {
    "ExecuteTime": {
     "end_time": "2021-12-21T13:12:04.792581Z",
     "start_time": "2021-12-21T13:12:04.768594Z"
    }
   },
   "outputs": [],
   "source": [
    "test_data.drop(['education'],axis=1,inplace=True)"
   ]
  },
  {
   "cell_type": "code",
   "execution_count": 19,
   "id": "0d9ee192",
   "metadata": {
    "ExecuteTime": {
     "end_time": "2021-12-21T13:12:07.092434Z",
     "start_time": "2021-12-21T13:12:07.063296Z"
    }
   },
   "outputs": [
    {
     "data": {
      "text/plain": [
       "0    22653\n",
       "1     7508\n",
       "Name: Salary, dtype: int64"
      ]
     },
     "execution_count": 19,
     "metadata": {},
     "output_type": "execute_result"
    }
   ],
   "source": [
    "train_data.Salary.value_counts()"
   ]
  },
  {
   "cell_type": "code",
   "execution_count": 20,
   "id": "58227be4",
   "metadata": {
    "ExecuteTime": {
     "end_time": "2021-12-21T13:12:09.503707Z",
     "start_time": "2021-12-21T13:12:09.487716Z"
    }
   },
   "outputs": [
    {
     "data": {
      "text/plain": [
       "0    11360\n",
       "1     3700\n",
       "Name: Salary, dtype: int64"
      ]
     },
     "execution_count": 20,
     "metadata": {},
     "output_type": "execute_result"
    }
   ],
   "source": [
    "test_data.Salary.value_counts()"
   ]
  },
  {
   "cell_type": "markdown",
   "id": "f1498ad7",
   "metadata": {},
   "source": [
    "### Data Visualisation:"
   ]
  },
  {
   "cell_type": "code",
   "execution_count": 21,
   "id": "4b4effd3",
   "metadata": {
    "ExecuteTime": {
     "end_time": "2021-12-21T13:12:16.330025Z",
     "start_time": "2021-12-21T13:12:12.785257Z"
    }
   },
   "outputs": [
    {
     "data": {
      "text/plain": [
       "array([[<AxesSubplot:title={'center':'age'}>,\n",
       "        <AxesSubplot:title={'center':'workclass'}>,\n",
       "        <AxesSubplot:title={'center':'educationno'}>,\n",
       "        <AxesSubplot:title={'center':'maritalstatus'}>],\n",
       "       [<AxesSubplot:title={'center':'occupation'}>,\n",
       "        <AxesSubplot:title={'center':'relationship'}>,\n",
       "        <AxesSubplot:title={'center':'race'}>,\n",
       "        <AxesSubplot:title={'center':'sex'}>],\n",
       "       [<AxesSubplot:title={'center':'capitalgain'}>,\n",
       "        <AxesSubplot:title={'center':'capitalloss'}>,\n",
       "        <AxesSubplot:title={'center':'hoursperweek'}>,\n",
       "        <AxesSubplot:title={'center':'native'}>],\n",
       "       [<AxesSubplot:title={'center':'Salary'}>, <AxesSubplot:>,\n",
       "        <AxesSubplot:>, <AxesSubplot:>]], dtype=object)"
      ]
     },
     "execution_count": 21,
     "metadata": {},
     "output_type": "execute_result"
    },
    {
     "data": {
      "image/png": "[encoded data removed]",
      "text/plain": [
       "<Figure size 2000x2000 with 16 Axes>"
      ]
     },
     "metadata": {},
     "output_type": "display_data"
    }
   ],
   "source": [
    "import seaborn as sns\n",
    "train_data.hist(edgecolor='black',figsize=(20,20),linewidth=1)"
   ]
  },
  {
   "cell_type": "markdown",
   "id": "da0451ff",
   "metadata": {},
   "source": [
    "### Splitting the data into Target and Features:"
   ]
  },
  {
   "cell_type": "code",
   "execution_count": 22,
   "id": "e7fdd03a",
   "metadata": {
    "ExecuteTime": {
     "end_time": "2021-12-21T13:12:23.632193Z",
     "start_time": "2021-12-21T13:12:23.616203Z"
    }
   },
   "outputs": [],
   "source": [
    "X_train = train_data.iloc[:,:-1]\n",
    "y_train = train_data.iloc[:,-1]\n",
    "X_test = test_data.iloc[:,:-1]\n",
    "y_test = test_data.iloc[:,-1]"
   ]
  },
  {
   "cell_type": "code",
   "execution_count": 23,
   "id": "52ea78e4",
   "metadata": {
    "ExecuteTime": {
     "end_time": "2021-12-21T13:12:26.561763Z",
     "start_time": "2021-12-21T13:12:26.537766Z"
    }
   },
   "outputs": [],
   "source": [
    "#Normalization:\n",
    "\n",
    "def norm_func(i):\n",
    "    x = (i-i.min())/(i.max()-i.min())\n",
    "    return (x)"
   ]
  },
  {
   "cell_type": "code",
   "execution_count": 24,
   "id": "9de84c92",
   "metadata": {},
   "outputs": [],
   "source": [
    "X_train = norm_func(X_train)\n",
    "X_test =  norm_func(X_test)"
   ]
  },
  {
   "cell_type": "markdown",
   "id": "e66bcb92",
   "metadata": {},
   "source": [
    "### SVM Model:"
   ]
  },
  {
   "cell_type": "code",
   "execution_count": 25,
   "id": "1ac49a06",
   "metadata": {},
   "outputs": [
    {
     "data": {
      "text/plain": [
       "SVC(gamma=0.1, kernel='linear', random_state=40)"
      ]
     },
     "execution_count": 25,
     "metadata": {},
     "output_type": "execute_result"
    }
   ],
   "source": [
    "model_linear = SVC(kernel = \"linear\",random_state=40,gamma=0.1,C=1.0)\n",
    "model_linear.fit(X_train,y_train)"
   ]
  },
  {
   "cell_type": "code",
   "execution_count": 26,
   "id": "d2e32f75",
   "metadata": {},
   "outputs": [],
   "source": [
    "pred_test_linear = model_linear.predict(X_test)"
   ]
  },
  {
   "cell_type": "code",
   "execution_count": 27,
   "id": "570054db",
   "metadata": {},
   "outputs": [
    {
     "data": {
      "text/plain": [
       "0.8098273572377158"
      ]
     },
     "execution_count": 27,
     "metadata": {},
     "output_type": "execute_result"
    }
   ],
   "source": [
    "np.mean(pred_test_linear==y_test)"
   ]
  },
  {
   "cell_type": "code",
   "execution_count": 28,
   "id": "b981d2ec",
   "metadata": {},
   "outputs": [],
   "source": [
    "# Kernel = poly:\n",
    "\n",
    "model_poly = SVC(kernel = \"poly\",random_state=40,gamma=0.1,C=1.0)\n",
    "model_poly.fit(X_train,y_train)\n",
    "pred_test_poly = model_poly.predict(X_test)"
   ]
  },
  {
   "cell_type": "code",
   "execution_count": 29,
   "id": "f1182285",
   "metadata": {},
   "outputs": [
    {
     "data": {
      "text/plain": [
       "0.8193227091633466"
      ]
     },
     "execution_count": 29,
     "metadata": {},
     "output_type": "execute_result"
    }
   ],
   "source": [
    "np.mean(pred_test_poly==y_test)"
   ]
  },
  {
   "cell_type": "code",
   "execution_count": 30,
   "id": "0eaab69f",
   "metadata": {},
   "outputs": [],
   "source": [
    "# kernel = rbf:\n",
    "\n",
    "model_rbf = SVC(kernel = \"rbf\",random_state=40,gamma=0.1,C=1.0)\n",
    "model_rbf.fit(X_train,y_train)\n",
    "pred_test_rbf = model_rbf.predict(X_test)"
   ]
  },
  {
   "cell_type": "code",
   "execution_count": 31,
   "id": "77e30a58",
   "metadata": {},
   "outputs": [
    {
     "data": {
      "text/plain": [
       "0.8287516600265604"
      ]
     },
     "execution_count": 31,
     "metadata": {},
     "output_type": "execute_result"
    }
   ],
   "source": [
    "np.mean(pred_test_rbf==y_test)"
   ]
  },
  {
   "cell_type": "code",
   "execution_count": 32,
   "id": "81ef6494",
   "metadata": {},
   "outputs": [],
   "source": [
    "#kernel ='sigmoid':\n",
    "\n",
    "model_sig = SVC(kernel = \"sigmoid\",random_state=40,gamma=0.1,C=1.0)\n",
    "model_sig.fit(X_train,y_train)\n",
    "pred_test_sig = model_rbf.predict(X_test)"
   ]
  },
  {
   "cell_type": "code",
   "execution_count": 33,
   "id": "d2cae98b",
   "metadata": {},
   "outputs": [
    {
     "data": {
      "text/plain": [
       "0.8287516600265604"
      ]
     },
     "execution_count": 33,
     "metadata": {},
     "output_type": "execute_result"
    }
   ],
   "source": [
    "np.mean(pred_test_sig==y_test)"
   ]
  },
  {
   "cell_type": "markdown",
   "id": "bb642ddf",
   "metadata": {},
   "source": [
    "### SVM  With GridSearch:"
   ]
  },
  {
   "cell_type": "markdown",
   "id": "040ee21a",
   "metadata": {},
   "source": [
    "* **Kernel = rbf.**"
   ]
  },
  {
   "cell_type": "code",
   "execution_count": 34,
   "id": "8846fc92",
   "metadata": {
    "scrolled": true
   },
   "outputs": [
    {
     "name": "stdout",
     "output_type": "stream",
     "text": [
      "Fitting 5 folds for each of 1 candidates, totalling 5 fits\n",
      "[CV 1/5] END ......C=1.0, gamma=0.1, kernel=rbf;, score=0.820 total time=  31.3s\n",
      "[CV 2/5] END ......C=1.0, gamma=0.1, kernel=rbf;, score=0.830 total time=  31.4s\n",
      "[CV 3/5] END ......C=1.0, gamma=0.1, kernel=rbf;, score=0.835 total time=  32.8s\n",
      "[CV 4/5] END ......C=1.0, gamma=0.1, kernel=rbf;, score=0.831 total time=  43.1s\n",
      "[CV 5/5] END ......C=1.0, gamma=0.1, kernel=rbf;, score=0.832 total time=  42.4s\n"
     ]
    },
    {
     "data": {
      "text/plain": [
       "GridSearchCV(estimator=SVC(),\n",
       "             param_grid={'C': [1.0], 'gamma': [0.1], 'kernel': ['rbf']},\n",
       "             verbose=3)"
      ]
     },
     "execution_count": 34,
     "metadata": {},
     "output_type": "execute_result"
    }
   ],
   "source": [
    "from sklearn.model_selection import GridSearchCV \n",
    "  \n",
    "# defining parameter range:\n",
    "\n",
    "param_grid = {'C': [ 1.0],  \n",
    "              'gamma': [0.1], \n",
    "              'kernel': ['rbf']}  \n",
    "  \n",
    "grid = GridSearchCV(SVC(), param_grid, refit = True, verbose = 3) \n",
    "  \n",
    "# fitting the model for grid search:\n",
    "\n",
    "grid.fit(X_train, y_train)"
   ]
  },
  {
   "cell_type": "code",
   "execution_count": 35,
   "id": "6bd4fca8",
   "metadata": {},
   "outputs": [
    {
     "name": "stdout",
     "output_type": "stream",
     "text": [
      "{'C': 1.0, 'gamma': 0.1, 'kernel': 'rbf'}\n"
     ]
    }
   ],
   "source": [
    "# print best parameter after tuning \n",
    "print(grid.best_params_) "
   ]
  },
  {
   "cell_type": "code",
   "execution_count": 36,
   "id": "15f1429b",
   "metadata": {},
   "outputs": [
    {
     "name": "stdout",
     "output_type": "stream",
     "text": [
      "SVC(gamma=0.1)\n"
     ]
    }
   ],
   "source": [
    "# print how our model looks after hyper-parameter tuning \n",
    "print(grid.best_estimator_) "
   ]
  },
  {
   "cell_type": "code",
   "execution_count": 37,
   "id": "5a9340de",
   "metadata": {},
   "outputs": [
    {
     "name": "stdout",
     "output_type": "stream",
     "text": [
      "              precision    recall  f1-score   support\n",
      "\n",
      "           0       0.85      0.95      0.89     11360\n",
      "           1       0.74      0.47      0.57      3700\n",
      "\n",
      "    accuracy                           0.83     15060\n",
      "   macro avg       0.79      0.71      0.73     15060\n",
      "weighted avg       0.82      0.83      0.81     15060\n",
      "\n"
     ]
    }
   ],
   "source": [
    "grid_predictions = grid.predict(X_test) \n",
    "  \n",
    "# print classification report \n",
    "print(classification_report(y_test, grid_predictions))"
   ]
  },
  {
   "cell_type": "code",
   "execution_count": 38,
   "id": "42b5f2b1",
   "metadata": {},
   "outputs": [
    {
     "name": "stdout",
     "output_type": "stream",
     "text": [
      "Accuracy = 82.87516600265604\n"
     ]
    }
   ],
   "source": [
    "acc = accuracy_score(y_test,  grid_predictions) * 100\n",
    "print(\"Accuracy =\", acc)"
   ]
  },
  {
   "cell_type": "code",
   "execution_count": 39,
   "id": "f66deb52",
   "metadata": {},
   "outputs": [
    {
     "data": {
      "text/plain": [
       "array([[10742,   618],\n",
       "       [ 1961,  1739]], dtype=int64)"
      ]
     },
     "execution_count": 39,
     "metadata": {},
     "output_type": "execute_result"
    }
   ],
   "source": [
    "confusion_matrix(y_test,grid_predictions)"
   ]
  },
  {
   "cell_type": "markdown",
   "id": "dfb5f8ee",
   "metadata": {},
   "source": [
    "* **Kernel = Linear.**"
   ]
  },
  {
   "cell_type": "code",
   "execution_count": 40,
   "id": "38263b33",
   "metadata": {},
   "outputs": [
    {
     "name": "stdout",
     "output_type": "stream",
     "text": [
      "Fitting 5 folds for each of 1 candidates, totalling 5 fits\n",
      "[CV 1/5] END ...C=1.0, gamma=0.1, kernel=linear;, score=0.813 total time=  22.5s\n",
      "[CV 2/5] END ...C=1.0, gamma=0.1, kernel=linear;, score=0.808 total time=  21.7s\n",
      "[CV 3/5] END ...C=1.0, gamma=0.1, kernel=linear;, score=0.815 total time=  20.1s\n",
      "[CV 4/5] END ...C=1.0, gamma=0.1, kernel=linear;, score=0.806 total time=  25.6s\n",
      "[CV 5/5] END ...C=1.0, gamma=0.1, kernel=linear;, score=0.818 total time=  19.6s\n"
     ]
    },
    {
     "data": {
      "text/plain": [
       "GridSearchCV(estimator=SVC(),\n",
       "             param_grid={'C': [1.0], 'gamma': [0.1], 'kernel': ['linear']},\n",
       "             verbose=3)"
      ]
     },
     "execution_count": 40,
     "metadata": {},
     "output_type": "execute_result"
    }
   ],
   "source": [
    "# defining parameter range:\n",
    "\n",
    "param_grid = {'C': [ 1.0],  \n",
    "              'gamma': [0.1], \n",
    "              'kernel': ['linear']}  \n",
    "  \n",
    "grid = GridSearchCV(SVC(), param_grid, refit = True, verbose = 3) \n",
    "  \n",
    "# fitting the model for grid search:\n",
    "\n",
    "grid.fit(X_train, y_train)"
   ]
  },
  {
   "cell_type": "code",
   "execution_count": 41,
   "id": "5999e8fc",
   "metadata": {},
   "outputs": [
    {
     "name": "stdout",
     "output_type": "stream",
     "text": [
      "{'C': 1.0, 'gamma': 0.1, 'kernel': 'linear'}\n"
     ]
    }
   ],
   "source": [
    "# print best parameter after tuning \n",
    "print(grid.best_params_) "
   ]
  },
  {
   "cell_type": "code",
   "execution_count": 42,
   "id": "06a9985e",
   "metadata": {},
   "outputs": [
    {
     "name": "stdout",
     "output_type": "stream",
     "text": [
      "SVC(gamma=0.1, kernel='linear')\n"
     ]
    }
   ],
   "source": [
    "# print how our model looks after hyper-parameter tuning \n",
    "print(grid.best_estimator_) "
   ]
  },
  {
   "cell_type": "code",
   "execution_count": 43,
   "id": "b9b179d6",
   "metadata": {},
   "outputs": [
    {
     "name": "stdout",
     "output_type": "stream",
     "text": [
      "              precision    recall  f1-score   support\n",
      "\n",
      "           0       0.81      0.97      0.88     11360\n",
      "           1       0.77      0.32      0.45      3700\n",
      "\n",
      "    accuracy                           0.81     15060\n",
      "   macro avg       0.79      0.65      0.67     15060\n",
      "weighted avg       0.80      0.81      0.78     15060\n",
      "\n"
     ]
    }
   ],
   "source": [
    "grid_predictions = grid.predict(X_test) \n",
    "  \n",
    "# print classification report \n",
    "print(classification_report(y_test, grid_predictions))"
   ]
  },
  {
   "cell_type": "code",
   "execution_count": 44,
   "id": "9d1b3bfb",
   "metadata": {},
   "outputs": [
    {
     "name": "stdout",
     "output_type": "stream",
     "text": [
      "Accuracy = 80.98273572377158\n"
     ]
    }
   ],
   "source": [
    "acc = accuracy_score(y_test,  grid_predictions) * 100\n",
    "print(\"Accuracy =\", acc)"
   ]
  },
  {
   "cell_type": "code",
   "execution_count": 45,
   "id": "676d0f62",
   "metadata": {},
   "outputs": [
    {
     "data": {
      "text/plain": [
       "array([[11003,   357],\n",
       "       [ 2507,  1193]], dtype=int64)"
      ]
     },
     "execution_count": 45,
     "metadata": {},
     "output_type": "execute_result"
    }
   ],
   "source": [
    "confusion_matrix(y_test,grid_predictions)"
   ]
  },
  {
   "cell_type": "markdown",
   "id": "b65e265f",
   "metadata": {},
   "source": [
    "* **Kernel - Poly.**"
   ]
  },
  {
   "cell_type": "code",
   "execution_count": 46,
   "id": "4f6f8055",
   "metadata": {},
   "outputs": [
    {
     "name": "stdout",
     "output_type": "stream",
     "text": [
      "Fitting 5 folds for each of 1 candidates, totalling 5 fits\n",
      "[CV 1/5] END .....C=1.0, gamma=0.1, kernel=poly;, score=0.812 total time=  24.1s\n",
      "[CV 2/5] END .....C=1.0, gamma=0.1, kernel=poly;, score=0.819 total time=  22.7s\n",
      "[CV 3/5] END .....C=1.0, gamma=0.1, kernel=poly;, score=0.820 total time=  21.5s\n",
      "[CV 4/5] END .....C=1.0, gamma=0.1, kernel=poly;, score=0.821 total time=  22.1s\n",
      "[CV 5/5] END .....C=1.0, gamma=0.1, kernel=poly;, score=0.816 total time=  22.3s\n"
     ]
    },
    {
     "data": {
      "text/plain": [
       "GridSearchCV(estimator=SVC(),\n",
       "             param_grid={'C': [1.0], 'gamma': [0.1], 'kernel': ['poly']},\n",
       "             verbose=3)"
      ]
     },
     "execution_count": 46,
     "metadata": {},
     "output_type": "execute_result"
    }
   ],
   "source": [
    "# defining parameter range:\n",
    "\n",
    "param_grid = {'C': [ 1.0],  \n",
    "              'gamma': [0.1], \n",
    "              'kernel': ['poly']}  \n",
    "  \n",
    "grid = GridSearchCV(SVC(), param_grid, refit = True, verbose = 3) \n",
    "  \n",
    "# fitting the model for grid search:\n",
    "\n",
    "grid.fit(X_train, y_train)"
   ]
  },
  {
   "cell_type": "code",
   "execution_count": 47,
   "id": "27ca5130",
   "metadata": {},
   "outputs": [
    {
     "name": "stdout",
     "output_type": "stream",
     "text": [
      "{'C': 1.0, 'gamma': 0.1, 'kernel': 'poly'}\n"
     ]
    }
   ],
   "source": [
    "# print best parameter after tuning \n",
    "print(grid.best_params_) "
   ]
  },
  {
   "cell_type": "code",
   "execution_count": 48,
   "id": "6e338cdd",
   "metadata": {},
   "outputs": [
    {
     "name": "stdout",
     "output_type": "stream",
     "text": [
      "SVC(gamma=0.1, kernel='poly')\n"
     ]
    }
   ],
   "source": [
    "# print how our model looks after hyper-parameter tuning \n",
    "print(grid.best_estimator_)"
   ]
  },
  {
   "cell_type": "code",
   "execution_count": 49,
   "id": "d2ac7d56",
   "metadata": {},
   "outputs": [
    {
     "name": "stdout",
     "output_type": "stream",
     "text": [
      "              precision    recall  f1-score   support\n",
      "\n",
      "           0       0.83      0.95      0.89     11360\n",
      "           1       0.74      0.41      0.53      3700\n",
      "\n",
      "    accuracy                           0.82     15060\n",
      "   macro avg       0.79      0.68      0.71     15060\n",
      "weighted avg       0.81      0.82      0.80     15060\n",
      "\n"
     ]
    }
   ],
   "source": [
    "grid_predictions = grid.predict(X_test) \n",
    "  \n",
    "# print classification report \n",
    "print(classification_report(y_test, grid_predictions))"
   ]
  },
  {
   "cell_type": "code",
   "execution_count": 50,
   "id": "acaf0602",
   "metadata": {},
   "outputs": [
    {
     "name": "stdout",
     "output_type": "stream",
     "text": [
      "Accuracy = 81.93227091633466\n"
     ]
    }
   ],
   "source": [
    "acc = accuracy_score(y_test,  grid_predictions) * 100\n",
    "print(\"Accuracy =\", acc)"
   ]
  },
  {
   "cell_type": "code",
   "execution_count": 51,
   "id": "e024674f",
   "metadata": {},
   "outputs": [
    {
     "data": {
      "text/plain": [
       "array([[10821,   539],\n",
       "       [ 2182,  1518]], dtype=int64)"
      ]
     },
     "execution_count": 51,
     "metadata": {},
     "output_type": "execute_result"
    }
   ],
   "source": [
    "confusion_matrix(y_test,grid_predictions)"
   ]
  },
  {
   "cell_type": "markdown",
   "id": "bdd17a5b",
   "metadata": {},
   "source": [
    "* **Kernel - Sigmoid.**"
   ]
  },
  {
   "cell_type": "code",
   "execution_count": 52,
   "id": "aa12c510",
   "metadata": {},
   "outputs": [
    {
     "name": "stdout",
     "output_type": "stream",
     "text": [
      "Fitting 5 folds for each of 1 candidates, totalling 5 fits\n",
      "[CV 1/5] END ..C=1.0, gamma=0.1, kernel=sigmoid;, score=0.796 total time=  33.0s\n",
      "[CV 2/5] END ..C=1.0, gamma=0.1, kernel=sigmoid;, score=0.797 total time=  36.5s\n",
      "[CV 3/5] END ..C=1.0, gamma=0.1, kernel=sigmoid;, score=0.803 total time=  30.8s\n",
      "[CV 4/5] END ..C=1.0, gamma=0.1, kernel=sigmoid;, score=0.799 total time=  37.6s\n",
      "[CV 5/5] END ..C=1.0, gamma=0.1, kernel=sigmoid;, score=0.802 total time=  39.6s\n"
     ]
    },
    {
     "data": {
      "text/plain": [
       "GridSearchCV(estimator=SVC(),\n",
       "             param_grid={'C': [1.0], 'gamma': [0.1], 'kernel': ['sigmoid']},\n",
       "             verbose=3)"
      ]
     },
     "execution_count": 52,
     "metadata": {},
     "output_type": "execute_result"
    }
   ],
   "source": [
    "# defining parameter range:\n",
    "\n",
    "param_grid = {'C': [ 1.0],  \n",
    "              'gamma': [0.1], \n",
    "              'kernel': ['sigmoid']}  \n",
    "  \n",
    "grid = GridSearchCV(SVC(), param_grid, refit = True, verbose = 3) \n",
    "  \n",
    "# fitting the model for grid search:\n",
    "\n",
    "grid.fit(X_train, y_train)"
   ]
  },
  {
   "cell_type": "code",
   "execution_count": 53,
   "id": "57bd0e7b",
   "metadata": {},
   "outputs": [
    {
     "name": "stdout",
     "output_type": "stream",
     "text": [
      "{'C': 1.0, 'gamma': 0.1, 'kernel': 'sigmoid'}\n"
     ]
    }
   ],
   "source": [
    "# print best parameter after tuning \n",
    "print(grid.best_params_) "
   ]
  },
  {
   "cell_type": "code",
   "execution_count": 54,
   "id": "ed8f37d5",
   "metadata": {},
   "outputs": [
    {
     "name": "stdout",
     "output_type": "stream",
     "text": [
      "SVC(gamma=0.1, kernel='sigmoid')\n"
     ]
    }
   ],
   "source": [
    "# print how our model looks after hyper-parameter tuning \n",
    "print(grid.best_estimator_)"
   ]
  },
  {
   "cell_type": "code",
   "execution_count": 55,
   "id": "b8125ca1",
   "metadata": {},
   "outputs": [
    {
     "name": "stdout",
     "output_type": "stream",
     "text": [
      "              precision    recall  f1-score   support\n",
      "\n",
      "           0       0.82      0.92      0.87     11360\n",
      "           1       0.62      0.39      0.48      3700\n",
      "\n",
      "    accuracy                           0.79     15060\n",
      "   macro avg       0.72      0.66      0.68     15060\n",
      "weighted avg       0.77      0.79      0.77     15060\n",
      "\n"
     ]
    }
   ],
   "source": [
    "grid_predictions = grid.predict(X_test) \n",
    "  \n",
    "# print classification report \n",
    "print(classification_report(y_test, grid_predictions))"
   ]
  },
  {
   "cell_type": "code",
   "execution_count": 56,
   "id": "77334dab",
   "metadata": {},
   "outputs": [
    {
     "name": "stdout",
     "output_type": "stream",
     "text": [
      "Accuracy = 79.22974767596281\n"
     ]
    }
   ],
   "source": [
    "acc = accuracy_score(y_test,  grid_predictions) * 100\n",
    "print(\"Accuracy =\", acc)"
   ]
  },
  {
   "cell_type": "code",
   "execution_count": 57,
   "id": "8a3e9806",
   "metadata": {},
   "outputs": [
    {
     "data": {
      "text/plain": [
       "array([[10473,   887],\n",
       "       [ 2241,  1459]], dtype=int64)"
      ]
     },
     "execution_count": 57,
     "metadata": {},
     "output_type": "execute_result"
    }
   ],
   "source": [
    "confusion_matrix(y_test,grid_predictions)"
   ]
  }
 ],
 "metadata": {
  "gist": {
   "data": {
    "description": "ASSIGNMENT 17 (1) SALARY.ipynb",
    "public": true
   },
   "id": ""
  },
  "kernelspec": {
   "display_name": "Python 3 (ipykernel)",
   "language": "python",
   "name": "python3"
  },
  "language_info": {
   "codemirror_mode": {
    "name": "ipython",
    "version": 3
   },
   "file_extension": ".py",
   "mimetype": "text/x-python",
   "name": "python",
   "nbconvert_exporter": "python",
   "pygments_lexer": "ipython3",
   "version": "3.9.13"
  },
  "varInspector": {
   "cols": {
    "lenName": 16,
    "lenType": 16,
    "lenVar": 40
   },
   "kernels_config": {
    "python": {
     "delete_cmd_postfix": "",
     "delete_cmd_prefix": "del ",
     "library": "var_list.py",
     "varRefreshCmd": "print(var_dic_list())"
    },
    "r": {
     "delete_cmd_postfix": ") ",
     "delete_cmd_prefix": "rm(",
     "library": "var_list.r",
     "varRefreshCmd": "cat(var_dic_list()) "
    }
   },
   "types_to_exclude": [
    "module",
    "function",
    "builtin_function_or_method",
    "instance",
    "_Feature"
   ],
   "window_display": false
  }
 },
 "nbformat": 4,
 "nbformat_minor": 5
}
